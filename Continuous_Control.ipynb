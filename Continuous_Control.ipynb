{
 "cells": [
  {
   "cell_type": "markdown",
   "metadata": {},
   "source": [
    "# Continuous Control\n",
    "\n",
    "---\n",
    "\n",
    "In this notebook, you will learn how to use the Unity ML-Agents environment for the second project of the [Deep Reinforcement Learning Nanodegree](https://www.udacity.com/course/deep-reinforcement-learning-nanodegree--nd893) program.\n",
    "\n",
    "### 1. Start the Environment\n",
    "\n",
    "We begin by importing the necessary packages.  If the code cell below returns an error, please revisit the project instructions to double-check that you have installed [Unity ML-Agents](https://github.com/Unity-Technologies/ml-agents/blob/master/docs/Installation.md) and [NumPy](http://www.numpy.org/)."
   ]
  },
  {
   "cell_type": "code",
   "execution_count": 1,
   "metadata": {},
   "outputs": [],
   "source": [
    "from unityagents import UnityEnvironment\n",
    "import numpy as np"
   ]
  },
  {
   "cell_type": "markdown",
   "metadata": {},
   "source": [
    "Next, we will start the environment!  **_Before running the code cell below_**, change the `file_name` parameter to match the location of the Unity environment that you downloaded.\n",
    "\n",
    "- **Mac**: `\"path/to/Reacher.app\"`\n",
    "- **Windows** (x86): `\"path/to/Reacher_Windows_x86/Reacher.exe\"`\n",
    "- **Windows** (x86_64): `\"path/to/Reacher_Windows_x86_64/Reacher.exe\"`\n",
    "- **Linux** (x86): `\"path/to/Reacher_Linux/Reacher.x86\"`\n",
    "- **Linux** (x86_64): `\"path/to/Reacher_Linux/Reacher.x86_64\"`\n",
    "- **Linux** (x86, headless): `\"path/to/Reacher_Linux_NoVis/Reacher.x86\"`\n",
    "- **Linux** (x86_64, headless): `\"path/to/Reacher_Linux_NoVis/Reacher.x86_64\"`\n",
    "\n",
    "For instance, if you are using a Mac, then you downloaded `Reacher.app`.  If this file is in the same folder as the notebook, then the line below should appear as follows:\n",
    "```\n",
    "env = UnityEnvironment(file_name=\"Reacher.app\")\n",
    "```"
   ]
  },
  {
   "cell_type": "code",
   "execution_count": 2,
   "metadata": {},
   "outputs": [
    {
     "name": "stderr",
     "output_type": "stream",
     "text": [
      "INFO:unityagents:\n",
      "'Academy' started successfully!\n",
      "Unity Academy name: Academy\n",
      "        Number of Brains: 1\n",
      "        Number of External Brains : 1\n",
      "        Lesson number : 0\n",
      "        Reset Parameters :\n",
      "\t\tgoal_speed -> 1.0\n",
      "\t\tgoal_size -> 5.0\n",
      "Unity brain name: ReacherBrain\n",
      "        Number of Visual Observations (per agent): 0\n",
      "        Vector Observation space type: continuous\n",
      "        Vector Observation space size (per agent): 33\n",
      "        Number of stacked Vector Observation: 1\n",
      "        Vector Action space type: continuous\n",
      "        Vector Action space size (per agent): 4\n",
      "        Vector Action descriptions: , , , \n"
     ]
    }
   ],
   "source": [
    "env = UnityEnvironment(file_name='ReacherMulti_Windows_x86_64/Reacher.exe')"
   ]
  },
  {
   "cell_type": "markdown",
   "metadata": {},
   "source": [
    "Environments contain **_brains_** which are responsible for deciding the actions of their associated agents. Here we check for the first brain available, and set it as the default brain we will be controlling from Python."
   ]
  },
  {
   "cell_type": "code",
   "execution_count": 3,
   "metadata": {},
   "outputs": [],
   "source": [
    "# get the default brain\n",
    "brain_name = env.brain_names[0]\n",
    "brain = env.brains[brain_name]"
   ]
  },
  {
   "cell_type": "markdown",
   "metadata": {},
   "source": [
    "### 2. Examine the State and Action Spaces\n",
    "\n",
    "In this environment, a double-jointed arm can move to target locations. A reward of `+0.1` is provided for each step that the agent's hand is in the goal location. Thus, the goal of your agent is to maintain its position at the target location for as many time steps as possible.\n",
    "\n",
    "The observation space consists of `33` variables corresponding to position, rotation, velocity, and angular velocities of the arm.  Each action is a vector with four numbers, corresponding to torque applicable to two joints.  Every entry in the action vector must be a number between `-1` and `1`.\n",
    "\n",
    "Run the code cell below to print some information about the environment."
   ]
  },
  {
   "cell_type": "code",
   "execution_count": 4,
   "metadata": {},
   "outputs": [
    {
     "name": "stdout",
     "output_type": "stream",
     "text": [
      "Number of agents: 20\n",
      "Size of each action: 4\n",
      "There are 20 agents. Each observes a state with length: 33\n",
      "The state for the first agent looks like: [ 0.00000000e+00 -4.00000000e+00  0.00000000e+00  1.00000000e+00\n",
      " -0.00000000e+00 -0.00000000e+00 -4.37113883e-08  0.00000000e+00\n",
      "  0.00000000e+00  0.00000000e+00  0.00000000e+00  0.00000000e+00\n",
      "  0.00000000e+00  0.00000000e+00 -1.00000000e+01  0.00000000e+00\n",
      "  1.00000000e+00 -0.00000000e+00 -0.00000000e+00 -4.37113883e-08\n",
      "  0.00000000e+00  0.00000000e+00  0.00000000e+00  0.00000000e+00\n",
      "  0.00000000e+00  0.00000000e+00  5.75471878e+00 -1.00000000e+00\n",
      "  5.55726624e+00  0.00000000e+00  1.00000000e+00  0.00000000e+00\n",
      " -1.68164849e-01]\n"
     ]
    }
   ],
   "source": [
    "# reset the environment\n",
    "env_info = env.reset(train_mode=True)[brain_name]\n",
    "\n",
    "# number of agents\n",
    "num_agents = len(env_info.agents)\n",
    "print('Number of agents:', num_agents)\n",
    "\n",
    "# size of each action\n",
    "action_size = brain.vector_action_space_size\n",
    "print('Size of each action:', action_size)\n",
    "\n",
    "# examine the state space \n",
    "states = env_info.vector_observations\n",
    "state_size = states.shape[1]\n",
    "print('There are {} agents. Each observes a state with length: {}'.format(states.shape[0], state_size))\n",
    "print('The state for the first agent looks like:', states[0])"
   ]
  },
  {
   "cell_type": "markdown",
   "metadata": {},
   "source": [
    "### 3. Take Random Actions in the Environment\n",
    "\n",
    "In the next code cell, you will learn how to use the Python API to control the agent and receive feedback from the environment.\n",
    "\n",
    "Once this cell is executed, you will watch the agent's performance, if it selects an action at random with each time step.  A window should pop up that allows you to observe the agent, as it moves through the environment.  \n",
    "\n",
    "Of course, as part of the project, you'll have to change the code so that the agent is able to use its experience to gradually choose better actions when interacting with the environment!"
   ]
  },
  {
   "cell_type": "code",
   "execution_count": 5,
   "metadata": {},
   "outputs": [],
   "source": [
    "#env_info = env.reset(train_mode=False)[brain_name]     # reset the environment    \n",
    "#states = env_info.vector_observations                  # get the current state (for each agent)\n",
    "#scores = np.zeros(num_agents)                          # initialize the score (for each agent)\n",
    "#while True:\n",
    "#    actions = np.random.randn(num_agents, action_size) # select an action (for each agent)\n",
    "#    actions = np.clip(actions, -1, 1)                  # all actions between -1 and 1\n",
    "#    env_info = env.step(actions)[brain_name]           # send all actions to tne environment\n",
    "#    next_states = env_info.vector_observations         # get next state (for each agent)\n",
    "#    rewards = env_info.rewards                         # get reward (for each agent)\n",
    "#    dones = env_info.local_done                        # see if episode finished\n",
    "#    scores += env_info.rewards                         # update the score (for each agent)\n",
    "#    states = next_states                               # roll over states to next time step\n",
    "#    if np.any(dones):                                  # exit loop if episode finished\n",
    "#        break\n",
    "#print('Total score (averaged over agents) this episode: {}'.format(np.mean(scores)))"
   ]
  },
  {
   "cell_type": "markdown",
   "metadata": {},
   "source": [
    "When finished, you can close the environment."
   ]
  },
  {
   "cell_type": "code",
   "execution_count": 6,
   "metadata": {},
   "outputs": [],
   "source": [
    "#env.close()"
   ]
  },
  {
   "cell_type": "markdown",
   "metadata": {},
   "source": [
    "### 4. It's Your Turn!\n",
    "\n",
    "Now it's your turn to train your own agent to solve the environment!  When training the environment, set `train_mode=True`, so that the line for resetting the environment looks like the following:\n",
    "```python\n",
    "env_info = env.reset(train_mode=True)[brain_name]\n",
    "```"
   ]
  },
  {
   "cell_type": "markdown",
   "metadata": {},
   "source": [
    "#### 1. Instantiate the Environment and Agent"
   ]
  },
  {
   "cell_type": "code",
   "execution_count": 7,
   "metadata": {},
   "outputs": [],
   "source": [
    "from collections import deque\n",
    "from itertools import count\n",
    "import time\n",
    "import torch\n",
    "from ddpg_agent import Agent\n",
    "import matplotlib.pyplot as plt\n",
    "%matplotlib inline\n",
    "\n",
    "agent = Agent(state_size=state_size, action_size=action_size, num_agents=num_agents, random_seed=0)"
   ]
  },
  {
   "cell_type": "markdown",
   "metadata": {},
   "source": [
    "#### 2. Train the Agent with DDPG"
   ]
  },
  {
   "cell_type": "code",
   "execution_count": null,
   "metadata": {
    "scrolled": true
   },
   "outputs": [
    {
     "name": "stdout",
     "output_type": "stream",
     "text": [
      "Episode 1, Average Score: 0.28, Max: 0.93, Min: 0.00, Time: 12.72\n",
      "Episode 2, Average Score: 0.40, Max: 1.55, Min: 0.00, Time: 13.03\n",
      "Episode 3, Average Score: 0.52, Max: 1.56, Min: 0.13, Time: 13.67\n",
      "Episode 4, Average Score: 0.59, Max: 1.36, Min: 0.30, Time: 11.94\n",
      "Episode 5, Average Score: 0.77, Max: 3.69, Min: 0.45, Time: 13.28\n",
      "Episode 6, Average Score: 0.84, Max: 2.43, Min: 0.33, Time: 13.22\n",
      "Episode 7, Average Score: 0.82, Max: 1.38, Min: 0.20, Time: 13.28\n",
      "Episode 8, Average Score: 0.81, Max: 1.78, Min: 0.07, Time: 13.01\n",
      "Episode 9, Average Score: 0.80, Max: 1.75, Min: 0.00, Time: 13.08\n",
      "Episode 10, Average Score: 0.81, Max: 2.03, Min: 0.00, Time: 11.93\n",
      "Episode 10\tAverage Score: 0.81\n",
      "Episode 11, Average Score: 0.86, Max: 5.46, Min: 0.38, Time: 12.67\n",
      "Episode 12, Average Score: 0.89, Max: 2.49, Min: 0.47, Time: 12.55\n",
      "Episode 13, Average Score: 0.91, Max: 2.58, Min: 0.06, Time: 13.54\n",
      "Episode 14, Average Score: 0.89, Max: 1.57, Min: 0.00, Time: 11.99\n",
      "Episode 15, Average Score: 0.89, Max: 2.44, Min: 0.02, Time: 12.12\n",
      "Episode 16, Average Score: 0.85, Max: 0.87, Min: 0.00, Time: 12.04\n",
      "Episode 17, Average Score: 0.84, Max: 1.56, Min: 0.00, Time: 12.11\n",
      "Episode 18, Average Score: 0.80, Max: 0.58, Min: 0.00, Time: 12.07\n",
      "Episode 19, Average Score: 0.78, Max: 1.22, Min: 0.00, Time: 12.10\n",
      "Episode 20, Average Score: 0.75, Max: 0.92, Min: 0.00, Time: 12.37\n",
      "Episode 20\tAverage Score: 0.75\n",
      "Episode 21, Average Score: 0.74, Max: 1.25, Min: 0.00, Time: 12.51\n",
      "Episode 22, Average Score: 0.72, Max: 0.98, Min: 0.00, Time: 12.49\n",
      "Episode 23, Average Score: 0.70, Max: 0.67, Min: 0.00, Time: 13.09\n",
      "Episode 24, Average Score: 0.70, Max: 1.57, Min: 0.00, Time: 12.55\n",
      "Episode 25, Average Score: 0.71, Max: 2.66, Min: 0.09, Time: 12.85\n",
      "Episode 26, Average Score: 0.70, Max: 1.53, Min: 0.00, Time: 12.85\n",
      "Episode 27, Average Score: 0.69, Max: 1.61, Min: 0.00, Time: 12.58\n",
      "Episode 28, Average Score: 0.70, Max: 2.27, Min: 0.00, Time: 12.61\n",
      "Episode 29, Average Score: 0.70, Max: 1.92, Min: 0.04, Time: 12.65\n",
      "Episode 30, Average Score: 0.72, Max: 2.48, Min: 0.18, Time: 12.74\n",
      "Episode 30\tAverage Score: 0.72\n",
      "Episode 31, Average Score: 0.73, Max: 2.02, Min: 0.01, Time: 12.79\n",
      "Episode 32, Average Score: 0.74, Max: 2.31, Min: 0.19, Time: 12.71\n",
      "Episode 33, Average Score: 0.76, Max: 2.70, Min: 0.15, Time: 13.17\n",
      "Episode 34, Average Score: 0.77, Max: 1.77, Min: 0.17, Time: 13.07\n",
      "Episode 35, Average Score: 0.78, Max: 2.30, Min: 0.10, Time: 12.93\n",
      "Episode 36, Average Score: 0.80, Max: 2.54, Min: 0.52, Time: 12.91\n",
      "Episode 37, Average Score: 0.81, Max: 2.76, Min: 0.31, Time: 13.11\n",
      "Episode 38, Average Score: 0.83, Max: 2.91, Min: 0.36, Time: 13.10\n",
      "Episode 39, Average Score: 0.85, Max: 3.79, Min: 0.57, Time: 13.33\n",
      "Episode 40, Average Score: 0.86, Max: 3.76, Min: 0.60, Time: 13.25\n",
      "Episode 40\tAverage Score: 0.86\n",
      "Episode 41, Average Score: 0.88, Max: 2.82, Min: 0.75, Time: 13.23\n",
      "Episode 42, Average Score: 0.90, Max: 2.84, Min: 0.38, Time: 13.30\n",
      "Episode 43, Average Score: 0.92, Max: 4.30, Min: 0.48, Time: 13.32\n",
      "Episode 44, Average Score: 0.94, Max: 3.09, Min: 0.84, Time: 13.49\n",
      "Episode 45, Average Score: 0.97, Max: 4.11, Min: 0.21, Time: 13.36\n",
      "Episode 46, Average Score: 1.00, Max: 3.26, Min: 0.84, Time: 13.88\n",
      "Episode 47, Average Score: 1.01, Max: 3.37, Min: 0.73, Time: 13.43\n",
      "Episode 48, Average Score: 1.03, Max: 3.78, Min: 0.56, Time: 13.49\n",
      "Episode 49, Average Score: 1.06, Max: 4.30, Min: 0.42, Time: 13.47\n",
      "Episode 50, Average Score: 1.08, Max: 5.88, Min: 1.08, Time: 13.69\n",
      "Episode 50\tAverage Score: 1.08\n",
      "Episode 51, Average Score: 1.10, Max: 2.83, Min: 0.92, Time: 13.55\n",
      "Episode 52, Average Score: 1.13, Max: 5.82, Min: 1.26, Time: 13.63\n",
      "Episode 53, Average Score: 1.14, Max: 4.28, Min: 0.21, Time: 13.77\n",
      "Episode 54, Average Score: 1.16, Max: 4.11, Min: 0.52, Time: 13.62\n",
      "Episode 55, Average Score: 1.18, Max: 4.12, Min: 0.73, Time: 13.78\n",
      "Episode 56, Average Score: 1.20, Max: 3.97, Min: 0.00, Time: 13.71\n",
      "Episode 57, Average Score: 1.21, Max: 4.07, Min: 0.88, Time: 13.98\n",
      "Episode 58, Average Score: 1.22, Max: 3.40, Min: 0.14, Time: 13.64\n",
      "Episode 59, Average Score: 1.24, Max: 3.17, Min: 0.83, Time: 13.84\n",
      "Episode 60, Average Score: 1.25, Max: 4.60, Min: 0.55, Time: 13.80\n",
      "Episode 60\tAverage Score: 1.25\n",
      "Episode 61, Average Score: 1.26, Max: 3.16, Min: 0.73, Time: 13.81\n",
      "Episode 62, Average Score: 1.28, Max: 4.28, Min: 0.89, Time: 13.80\n",
      "Episode 63, Average Score: 1.30, Max: 3.54, Min: 1.68, Time: 13.73\n",
      "Episode 64, Average Score: 1.32, Max: 3.51, Min: 1.11, Time: 13.78\n",
      "Episode 65, Average Score: 1.34, Max: 4.57, Min: 1.32, Time: 13.72\n",
      "Episode 66, Average Score: 1.36, Max: 4.19, Min: 1.15, Time: 13.88\n",
      "Episode 67, Average Score: 1.37, Max: 4.62, Min: 0.35, Time: 14.01\n",
      "Episode 68, Average Score: 1.39, Max: 5.41, Min: 1.14, Time: 13.77\n",
      "Episode 69, Average Score: 1.41, Max: 4.09, Min: 0.76, Time: 14.05\n",
      "Episode 70, Average Score: 1.42, Max: 4.51, Min: 1.12, Time: 14.05\n",
      "Episode 70\tAverage Score: 1.42\n",
      "Episode 71, Average Score: 1.43, Max: 4.30, Min: 0.84, Time: 13.75\n",
      "Episode 72, Average Score: 1.45, Max: 3.90, Min: 0.73, Time: 13.95\n",
      "Episode 73, Average Score: 1.46, Max: 3.98, Min: 0.79, Time: 13.88\n",
      "Episode 74, Average Score: 1.47, Max: 4.19, Min: 1.07, Time: 13.87\n",
      "Episode 75, Average Score: 1.48, Max: 4.36, Min: 0.29, Time: 13.75\n",
      "Episode 76, Average Score: 1.49, Max: 3.98, Min: 0.54, Time: 13.80\n",
      "Episode 77, Average Score: 1.51, Max: 4.87, Min: 0.74, Time: 13.93\n",
      "Episode 78, Average Score: 1.52, Max: 11.48, Min: 0.87, Time: 13.85\n",
      "Episode 79, Average Score: 1.53, Max: 4.76, Min: 0.99, Time: 13.78\n",
      "Episode 80, Average Score: 1.54, Max: 3.56, Min: 0.62, Time: 13.72\n",
      "Episode 80\tAverage Score: 1.54\n",
      "Episode 81, Average Score: 1.55, Max: 5.06, Min: 0.79, Time: 13.76\n",
      "Episode 82, Average Score: 1.57, Max: 5.40, Min: 0.60, Time: 13.84\n",
      "Episode 83, Average Score: 1.57, Max: 3.24, Min: 0.76, Time: 14.51\n",
      "Episode 84, Average Score: 1.58, Max: 6.17, Min: 0.46, Time: 13.85\n",
      "Episode 85, Average Score: 1.59, Max: 3.75, Min: 0.00, Time: 13.89\n",
      "Episode 86, Average Score: 1.59, Max: 4.59, Min: 0.96, Time: 13.90\n",
      "Episode 87, Average Score: 1.62, Max: 6.91, Min: 1.25, Time: 13.89\n",
      "Episode 88, Average Score: 1.63, Max: 4.65, Min: 2.12, Time: 13.81\n",
      "Episode 89, Average Score: 1.66, Max: 5.32, Min: 1.75, Time: 13.90\n",
      "Episode 90, Average Score: 1.67, Max: 4.49, Min: 1.41, Time: 13.86\n",
      "Episode 90\tAverage Score: 1.67\n",
      "Episode 91, Average Score: 1.67, Max: 4.06, Min: 0.00, Time: 14.90\n",
      "Episode 92, Average Score: 1.68, Max: 4.62, Min: 0.00, Time: 14.62\n",
      "Episode 93, Average Score: 1.68, Max: 7.56, Min: 0.09, Time: 14.85\n",
      "Episode 94, Average Score: 1.69, Max: 4.94, Min: 0.00, Time: 14.67\n",
      "Episode 95, Average Score: 1.70, Max: 4.98, Min: 0.40, Time: 14.76\n",
      "Episode 96, Average Score: 1.72, Max: 5.68, Min: 1.01, Time: 14.67\n",
      "Episode 97, Average Score: 1.72, Max: 6.34, Min: 0.63, Time: 14.62\n",
      "Episode 98, Average Score: 1.73, Max: 4.45, Min: 1.21, Time: 14.78\n",
      "Episode 99, Average Score: 1.74, Max: 3.91, Min: 1.37, Time: 14.67\n",
      "Episode 100, Average Score: 1.75, Max: 4.52, Min: 0.58, Time: 14.70\n",
      "Episode 100\tAverage Score: 1.75\n",
      "Episode 101, Average Score: 1.77, Max: 3.89, Min: 0.55, Time: 14.74\n",
      "Episode 102, Average Score: 1.79, Max: 4.82, Min: 0.41, Time: 14.67\n",
      "Episode 103, Average Score: 1.80, Max: 4.08, Min: 0.95, Time: 14.63\n",
      "Episode 104, Average Score: 1.82, Max: 5.99, Min: 1.06, Time: 14.66\n",
      "Episode 105, Average Score: 1.84, Max: 4.05, Min: 1.26, Time: 14.66\n",
      "Episode 106, Average Score: 1.85, Max: 3.91, Min: 0.46, Time: 14.70\n",
      "Episode 107, Average Score: 1.87, Max: 4.70, Min: 1.23, Time: 14.75\n",
      "Episode 108, Average Score: 1.88, Max: 4.85, Min: 0.86, Time: 14.77\n",
      "Episode 109, Average Score: 1.90, Max: 4.70, Min: 1.21, Time: 14.69\n",
      "Episode 110, Average Score: 1.91, Max: 3.68, Min: 1.01, Time: 14.74\n",
      "Episode 110\tAverage Score: 1.91\n",
      "Episode 111, Average Score: 1.93, Max: 5.07, Min: 0.39, Time: 14.78\n",
      "Episode 112, Average Score: 1.94, Max: 7.16, Min: 0.76, Time: 14.81\n",
      "Episode 113, Average Score: 1.95, Max: 4.84, Min: 0.73, Time: 14.73\n",
      "Episode 114, Average Score: 1.97, Max: 4.22, Min: 1.26, Time: 14.77\n",
      "Episode 115, Average Score: 2.00, Max: 6.67, Min: 1.62, Time: 14.66\n",
      "Episode 116, Average Score: 2.02, Max: 4.32, Min: 0.98, Time: 14.08\n",
      "Episode 117, Average Score: 2.05, Max: 5.80, Min: 0.70, Time: 14.04\n",
      "Episode 118, Average Score: 2.08, Max: 5.90, Min: 1.82, Time: 14.05\n"
     ]
    },
    {
     "name": "stdout",
     "output_type": "stream",
     "text": [
      "Episode 119, Average Score: 2.10, Max: 9.60, Min: 0.43, Time: 14.28\n",
      "Episode 120, Average Score: 2.14, Max: 7.08, Min: 1.88, Time: 14.08\n",
      "Episode 120\tAverage Score: 2.14\n",
      "Episode 121, Average Score: 2.17, Max: 5.52, Min: 1.51, Time: 14.05\n",
      "Episode 122, Average Score: 2.20, Max: 6.48, Min: 1.20, Time: 14.05\n",
      "Episode 123, Average Score: 2.23, Max: 6.29, Min: 1.73, Time: 14.15\n",
      "Episode 124, Average Score: 2.26, Max: 6.91, Min: 1.47, Time: 14.19\n",
      "Episode 125, Average Score: 2.29, Max: 7.34, Min: 0.87, Time: 14.16\n",
      "Episode 126, Average Score: 2.32, Max: 5.54, Min: 1.12, Time: 14.17\n",
      "Episode 127, Average Score: 2.35, Max: 7.07, Min: 1.57, Time: 14.20\n",
      "Episode 128, Average Score: 2.38, Max: 6.56, Min: 0.00, Time: 14.16\n",
      "Episode 129, Average Score: 2.40, Max: 4.46, Min: 1.67, Time: 14.21\n",
      "Episode 130, Average Score: 2.42, Max: 5.38, Min: 0.95, Time: 14.17\n",
      "Episode 130\tAverage Score: 2.42\n",
      "Episode 131, Average Score: 2.45, Max: 5.46, Min: 0.77, Time: 14.15\n",
      "Episode 132, Average Score: 2.48, Max: 7.62, Min: 2.40, Time: 14.21\n",
      "Episode 133, Average Score: 2.50, Max: 4.83, Min: 1.29, Time: 14.24\n",
      "Episode 134, Average Score: 2.53, Max: 6.27, Min: 1.38, Time: 14.24\n",
      "Episode 135, Average Score: 2.55, Max: 5.68, Min: 1.19, Time: 14.10\n",
      "Episode 136, Average Score: 2.57, Max: 9.41, Min: 0.60, Time: 14.17\n",
      "Episode 137, Average Score: 2.59, Max: 4.60, Min: 1.21, Time: 14.28\n",
      "Episode 138, Average Score: 2.61, Max: 7.08, Min: 1.28, Time: 15.09\n",
      "Episode 139, Average Score: 2.62, Max: 6.30, Min: 1.63, Time: 15.78\n",
      "Episode 140, Average Score: 2.64, Max: 4.94, Min: 1.38, Time: 15.12\n",
      "Episode 140\tAverage Score: 2.64\n"
     ]
    }
   ],
   "source": [
    "def ddpg(n_episodes=1500, max_steps=1000):\n",
    "    scores_deque = deque(maxlen=100)\n",
    "    scores_global = []\n",
    "        \n",
    "    for i_episode in range(1, n_episodes+1):\n",
    "        env_info = env.reset(train_mode=True)[brain_name]      # reset the environment    \n",
    "        states = env_info.vector_observations                  # get the current state (for each agent)\n",
    "        scores = np.zeros(num_agents)                          # initialize the score (for each agent)\n",
    "        agent.reset()\n",
    "        \n",
    "        timestep = time.time()\n",
    "        for t in range(max_steps):\n",
    "            actions = agent.act(states)\n",
    "            env_info = env.step(actions)[brain_name]           # send all actions to tne environment\n",
    "            next_states = env_info.vector_observations         # get next state (for each agent)\n",
    "            rewards = env_info.rewards                         # get reward (for each agent)\n",
    "            dones = env_info.local_done                        # see if episode finished\n",
    "            scores += env_info.rewards                         # update the score (for each agent)\n",
    "            \n",
    "            for state, action, reward, next_state, done in zip(states, actions, rewards, next_states, dones):\n",
    "                agent.step(state, action, reward, next_state, done)\n",
    "                        \n",
    "            if t % 20 == 0:\n",
    "                agent.learnfromreplaymemory()\n",
    "            \n",
    "            states = next_states                               # roll over states to next time step<\n",
    "            \n",
    "            if np.any(dones):                                  # exit loop if episode finished\n",
    "                break\n",
    "        \n",
    "        score = np.mean(scores)\n",
    "        scores_deque.append(score)\n",
    "        scores_global.append(score)\n",
    "        \n",
    "        print('\\rEpisode {}, Average Score: {:.2f}, Max: {:.2f}, Min: {:.2f}, Time: {:.2f}'\\\n",
    "              .format(i_episode, np.mean(scores_deque), np.max(scores), np.min(scores), time.time() - timestep), end=\"\\n\")        \n",
    "        \n",
    "        if i_episode % 10 == 0:\n",
    "            torch.save(agent.actor_local.state_dict(), 'checkpoint_actor.pth')\n",
    "            torch.save(agent.critic_local.state_dict(), 'checkpoint_critic.pth')\n",
    "            print('\\rEpisode {}\\tAverage Score: {:.2f}'.format(i_episode, np.mean(scores_deque)))   \n",
    "            \n",
    "        if np.mean(scores_deque) >= 30.0:\n",
    "            print('\\nEnvironment solved in {:d} episodes!\\tAverage Score: {:.2f}'.format(i_episode, np.mean(scores_deque)))            \n",
    "            break            \n",
    "            \n",
    "    return scores_global\n",
    "\n",
    "scores = ddpg()\n",
    "\n",
    "fig = plt.figure()\n",
    "ax = fig.add_subplot(111)\n",
    "plt.plot(np.arange(1, len(scores)+1), scores)\n",
    "plt.ylabel('Score')\n",
    "plt.xlabel('Episode #')\n",
    "plt.show()"
   ]
  },
  {
   "cell_type": "markdown",
   "metadata": {},
   "source": [
    "#### 3. Watch a Smart Agent!"
   ]
  },
  {
   "cell_type": "code",
   "execution_count": null,
   "metadata": {},
   "outputs": [],
   "source": [
    "agent.actor_local.load_state_dict(torch.load('checkpoint_actor.pth'))\n",
    "agent.critic_local.load_state_dict(torch.load('checkpoint_critic.pth'))\n",
    "\n",
    "env_info = env.reset(train_mode=False)[brain_name]     # reset the environment    \n",
    "states = env_info.vector_observations                  # get the current state (for each agent)\n",
    "scores = np.zeros(num_agents)                          # initialize the score (for each agent)\n",
    "while True:\n",
    "    actions = agent.act(states)                        # select an action (for each agent)\n",
    "    env_info = env.step(actions)[brain_name]           # send all actions to tne environment\n",
    "    next_states = env_info.vector_observations         # get next state (for each agent)\n",
    "    rewards = env_info.rewards                         # get reward (for each agent)\n",
    "    dones = env_info.local_done                        # see if episode finished\n",
    "    scores += env_info.rewards                         # update the score (for each agent)\n",
    "    states = next_states                               # roll over states to next time step\n",
    "    if np.any(dones):                                  # exit loop if episode finished\n",
    "        break\n",
    "print('Total score (averaged over agents) this episode: {}'.format(np.mean(scores)))"
   ]
  },
  {
   "cell_type": "code",
   "execution_count": null,
   "metadata": {},
   "outputs": [],
   "source": [
    "env.close()"
   ]
  },
  {
   "cell_type": "code",
   "execution_count": null,
   "metadata": {},
   "outputs": [],
   "source": []
  }
 ],
 "metadata": {
  "kernelspec": {
   "display_name": "Python 3",
   "language": "python",
   "name": "python3"
  },
  "language_info": {
   "codemirror_mode": {
    "name": "ipython",
    "version": 3
   },
   "file_extension": ".py",
   "mimetype": "text/x-python",
   "name": "python",
   "nbconvert_exporter": "python",
   "pygments_lexer": "ipython3",
   "version": "3.6.6"
  }
 },
 "nbformat": 4,
 "nbformat_minor": 2
}
