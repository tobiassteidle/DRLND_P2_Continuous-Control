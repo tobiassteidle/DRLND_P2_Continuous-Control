{
 "cells": [
  {
   "cell_type": "markdown",
   "metadata": {},
   "source": [
    "# Continuous Control\n",
    "\n",
    "---\n",
    "\n",
    "In this notebook, you will learn how to use the Unity ML-Agents environment for the second project of the [Deep Reinforcement Learning Nanodegree](https://www.udacity.com/course/deep-reinforcement-learning-nanodegree--nd893) program.\n",
    "\n",
    "### 1. Start the Environment\n",
    "\n",
    "We begin by importing the necessary packages.  If the code cell below returns an error, please revisit the project instructions to double-check that you have installed [Unity ML-Agents](https://github.com/Unity-Technologies/ml-agents/blob/master/docs/Installation.md) and [NumPy](http://www.numpy.org/)."
   ]
  },
  {
   "cell_type": "code",
   "execution_count": 1,
   "metadata": {},
   "outputs": [],
   "source": [
    "from unityagents import UnityEnvironment\n",
    "import numpy as np"
   ]
  },
  {
   "cell_type": "markdown",
   "metadata": {},
   "source": [
    "Next, we will start the environment!  **_Before running the code cell below_**, change the `file_name` parameter to match the location of the Unity environment that you downloaded.\n",
    "\n",
    "- **Mac**: `\"path/to/Reacher.app\"`\n",
    "- **Windows** (x86): `\"path/to/Reacher_Windows_x86/Reacher.exe\"`\n",
    "- **Windows** (x86_64): `\"path/to/Reacher_Windows_x86_64/Reacher.exe\"`\n",
    "- **Linux** (x86): `\"path/to/Reacher_Linux/Reacher.x86\"`\n",
    "- **Linux** (x86_64): `\"path/to/Reacher_Linux/Reacher.x86_64\"`\n",
    "- **Linux** (x86, headless): `\"path/to/Reacher_Linux_NoVis/Reacher.x86\"`\n",
    "- **Linux** (x86_64, headless): `\"path/to/Reacher_Linux_NoVis/Reacher.x86_64\"`\n",
    "\n",
    "For instance, if you are using a Mac, then you downloaded `Reacher.app`.  If this file is in the same folder as the notebook, then the line below should appear as follows:\n",
    "```\n",
    "env = UnityEnvironment(file_name=\"Reacher.app\")\n",
    "```"
   ]
  },
  {
   "cell_type": "code",
   "execution_count": 2,
   "metadata": {
    "scrolled": false
   },
   "outputs": [
    {
     "name": "stderr",
     "output_type": "stream",
     "text": [
      "INFO:unityagents:\n",
      "'Academy' started successfully!\n",
      "Unity Academy name: Academy\n",
      "        Number of Brains: 1\n",
      "        Number of External Brains : 1\n",
      "        Lesson number : 0\n",
      "        Reset Parameters :\n",
      "\t\tgoal_speed -> 1.0\n",
      "\t\tgoal_size -> 5.0\n",
      "Unity brain name: ReacherBrain\n",
      "        Number of Visual Observations (per agent): 0\n",
      "        Vector Observation space type: continuous\n",
      "        Vector Observation space size (per agent): 33\n",
      "        Number of stacked Vector Observation: 1\n",
      "        Vector Action space type: continuous\n",
      "        Vector Action space size (per agent): 4\n",
      "        Vector Action descriptions: , , , \n"
     ]
    }
   ],
   "source": [
    "env = UnityEnvironment(file_name='ReacherMulti_Windows_x86_64/Reacher.exe')"
   ]
  },
  {
   "cell_type": "markdown",
   "metadata": {},
   "source": [
    "Environments contain **_brains_** which are responsible for deciding the actions of their associated agents. Here we check for the first brain available, and set it as the default brain we will be controlling from Python."
   ]
  },
  {
   "cell_type": "code",
   "execution_count": 3,
   "metadata": {},
   "outputs": [],
   "source": [
    "# get the default brain\n",
    "brain_name = env.brain_names[0]\n",
    "brain = env.brains[brain_name]"
   ]
  },
  {
   "cell_type": "markdown",
   "metadata": {},
   "source": [
    "### 2. Examine the State and Action Spaces\n",
    "\n",
    "In this environment, a double-jointed arm can move to target locations. A reward of `+0.1` is provided for each step that the agent's hand is in the goal location. Thus, the goal of your agent is to maintain its position at the target location for as many time steps as possible.\n",
    "\n",
    "The observation space consists of `33` variables corresponding to position, rotation, velocity, and angular velocities of the arm.  Each action is a vector with four numbers, corresponding to torque applicable to two joints.  Every entry in the action vector must be a number between `-1` and `1`.\n",
    "\n",
    "Run the code cell below to print some information about the environment."
   ]
  },
  {
   "cell_type": "code",
   "execution_count": 4,
   "metadata": {},
   "outputs": [
    {
     "name": "stdout",
     "output_type": "stream",
     "text": [
      "Number of agents: 20\n",
      "Size of each action: 4\n",
      "There are 20 agents. Each observes a state with length: 33\n",
      "The state for the first agent looks like: [ 0.00000000e+00 -4.00000000e+00  0.00000000e+00  1.00000000e+00\n",
      " -0.00000000e+00 -0.00000000e+00 -4.37113883e-08  0.00000000e+00\n",
      "  0.00000000e+00  0.00000000e+00  0.00000000e+00  0.00000000e+00\n",
      "  0.00000000e+00  0.00000000e+00 -1.00000000e+01  0.00000000e+00\n",
      "  1.00000000e+00 -0.00000000e+00 -0.00000000e+00 -4.37113883e-08\n",
      "  0.00000000e+00  0.00000000e+00  0.00000000e+00  0.00000000e+00\n",
      "  0.00000000e+00  0.00000000e+00  5.75471878e+00 -1.00000000e+00\n",
      "  5.55726624e+00  0.00000000e+00  1.00000000e+00  0.00000000e+00\n",
      " -1.68164849e-01]\n"
     ]
    }
   ],
   "source": [
    "# reset the environment\n",
    "env_info = env.reset(train_mode=True)[brain_name]\n",
    "\n",
    "# number of agents\n",
    "num_agents = len(env_info.agents)\n",
    "print('Number of agents:', num_agents)\n",
    "\n",
    "# size of each action\n",
    "action_size = brain.vector_action_space_size\n",
    "print('Size of each action:', action_size)\n",
    "\n",
    "# examine the state space \n",
    "states = env_info.vector_observations\n",
    "state_size = states.shape[1]\n",
    "print('There are {} agents. Each observes a state with length: {}'.format(states.shape[0], state_size))\n",
    "print('The state for the first agent looks like:', states[0])"
   ]
  },
  {
   "cell_type": "markdown",
   "metadata": {},
   "source": [
    "### 3. Take Random Actions in the Environment\n",
    "\n",
    "In the next code cell, you will learn how to use the Python API to control the agent and receive feedback from the environment.\n",
    "\n",
    "Once this cell is executed, you will watch the agent's performance, if it selects an action at random with each time step.  A window should pop up that allows you to observe the agent, as it moves through the environment.  \n",
    "\n",
    "Of course, as part of the project, you'll have to change the code so that the agent is able to use its experience to gradually choose better actions when interacting with the environment!"
   ]
  },
  {
   "cell_type": "code",
   "execution_count": 5,
   "metadata": {},
   "outputs": [],
   "source": [
    "#env_info = env.reset(train_mode=False)[brain_name]     # reset the environment    \n",
    "#states = env_info.vector_observations                  # get the current state (for each agent)\n",
    "#scores = np.zeros(num_agents)                          # initialize the score (for each agent)\n",
    "#while True:\n",
    "#    actions = np.random.randn(num_agents, action_size) # select an action (for each agent)\n",
    "#    actions = np.clip(actions, -1, 1)                  # all actions between -1 and 1\n",
    "#    env_info = env.step(actions)[brain_name]           # send all actions to tne environment\n",
    "#    next_states = env_info.vector_observations         # get next state (for each agent)\n",
    "#    rewards = env_info.rewards                         # get reward (for each agent)\n",
    "#    dones = env_info.local_done                        # see if episode finished\n",
    "#    scores += env_info.rewards                         # update the score (for each agent)\n",
    "#    states = next_states                               # roll over states to next time step\n",
    "#    if np.any(dones):                                  # exit loop if episode finished\n",
    "#        break\n",
    "#print('Total score (averaged over agents) this episode: {}'.format(np.mean(scores)))"
   ]
  },
  {
   "cell_type": "markdown",
   "metadata": {},
   "source": [
    "When finished, you can close the environment."
   ]
  },
  {
   "cell_type": "code",
   "execution_count": 6,
   "metadata": {},
   "outputs": [],
   "source": [
    "#env.close()"
   ]
  },
  {
   "cell_type": "markdown",
   "metadata": {},
   "source": [
    "### 4. It's Your Turn!\n",
    "\n",
    "Now it's your turn to train your own agent to solve the environment!  When training the environment, set `train_mode=True`, so that the line for resetting the environment looks like the following:\n",
    "```python\n",
    "env_info = env.reset(train_mode=True)[brain_name]\n",
    "```"
   ]
  },
  {
   "cell_type": "markdown",
   "metadata": {},
   "source": [
    "#### 1. Instantiate the Environment and Agent"
   ]
  },
  {
   "cell_type": "code",
   "execution_count": 7,
   "metadata": {},
   "outputs": [],
   "source": [
    "from collections import deque\n",
    "from itertools import count\n",
    "import time\n",
    "import torch\n",
    "from ddpg_agent import Agent\n",
    "import matplotlib.pyplot as plt\n",
    "%matplotlib inline\n",
    "\n",
    "agent = Agent(state_size=state_size, action_size=action_size, random_seed=15)"
   ]
  },
  {
   "cell_type": "markdown",
   "metadata": {},
   "source": [
    "#### 2. Train the Agent with DDPG"
   ]
  },
  {
   "cell_type": "code",
   "execution_count": 8,
   "metadata": {
    "scrolled": true
   },
   "outputs": [
    {
     "name": "stdout",
     "output_type": "stream",
     "text": [
      "Episode 1, Average Score: 0.06, Max: 0.52, Min: 0.00, Time: 16.99\n",
      "Episode 2, Average Score: 0.11, Max: 0.49, Min: 0.00, Time: 17.43\n",
      "Episode 3, Average Score: 0.17, Max: 1.30, Min: 0.00, Time: 17.77\n",
      "Episode 4, Average Score: 0.22, Max: 0.80, Min: 0.00, Time: 17.06\n",
      "Episode 5, Average Score: 0.24, Max: 1.06, Min: 0.00, Time: 18.07\n",
      "Episode 6, Average Score: 0.30, Max: 1.63, Min: 0.13, Time: 17.26\n",
      "Episode 7, Average Score: 0.39, Max: 1.89, Min: 0.11, Time: 17.19\n",
      "Episode 8, Average Score: 0.44, Max: 2.00, Min: 0.15, Time: 17.35\n",
      "Episode 9, Average Score: 0.49, Max: 1.66, Min: 0.27, Time: 18.12\n",
      "Episode 10, Average Score: 0.57, Max: 2.82, Min: 0.11, Time: 17.41\n",
      "Episode 10\tAverage Score: 0.57\n",
      "Episode 11, Average Score: 0.59, Max: 2.69, Min: 0.13, Time: 18.40\n",
      "Episode 12, Average Score: 0.63, Max: 3.20, Min: 0.00, Time: 18.20\n",
      "Episode 13, Average Score: 0.65, Max: 2.57, Min: 0.00, Time: 18.37\n",
      "Episode 14, Average Score: 0.70, Max: 2.97, Min: 0.23, Time: 18.75\n",
      "Episode 15, Average Score: 0.73, Max: 1.89, Min: 0.20, Time: 18.94\n",
      "Episode 16, Average Score: 0.77, Max: 2.87, Min: 0.61, Time: 18.94\n",
      "Episode 17, Average Score: 0.81, Max: 2.33, Min: 0.57, Time: 18.68\n",
      "Episode 18, Average Score: 0.85, Max: 2.68, Min: 0.56, Time: 19.10\n",
      "Episode 19, Average Score: 0.87, Max: 2.83, Min: 0.47, Time: 19.12\n",
      "Episode 20, Average Score: 0.91, Max: 2.94, Min: 0.38, Time: 19.33\n",
      "Episode 20\tAverage Score: 0.91\n",
      "Episode 21, Average Score: 0.94, Max: 2.97, Min: 0.49, Time: 19.02\n",
      "Episode 22, Average Score: 0.98, Max: 3.20, Min: 0.88, Time: 20.55\n",
      "Episode 23, Average Score: 1.01, Max: 2.84, Min: 0.96, Time: 19.79\n",
      "Episode 24, Average Score: 1.03, Max: 2.79, Min: 0.50, Time: 19.34\n",
      "Episode 25, Average Score: 1.05, Max: 2.88, Min: 0.22, Time: 19.49\n",
      "Episode 26, Average Score: 1.10, Max: 3.56, Min: 0.75, Time: 19.77\n",
      "Episode 27, Average Score: 1.13, Max: 4.55, Min: 0.31, Time: 19.85\n",
      "Episode 28, Average Score: 1.18, Max: 4.80, Min: 0.73, Time: 20.13\n",
      "Episode 29, Average Score: 1.25, Max: 7.00, Min: 1.99, Time: 20.29\n",
      "Episode 30, Average Score: 1.32, Max: 5.50, Min: 1.88, Time: 20.35\n",
      "Episode 30\tAverage Score: 1.32\n",
      "Episode 31, Average Score: 1.38, Max: 6.05, Min: 1.06, Time: 20.64\n",
      "Episode 32, Average Score: 1.44, Max: 6.38, Min: 1.06, Time: 20.57\n",
      "Episode 33, Average Score: 1.49, Max: 6.22, Min: 1.17, Time: 21.00\n",
      "Episode 34, Average Score: 1.55, Max: 6.07, Min: 1.40, Time: 21.09\n",
      "Episode 35, Average Score: 1.60, Max: 6.67, Min: 1.24, Time: 21.60\n",
      "Episode 36, Average Score: 1.66, Max: 6.38, Min: 1.07, Time: 21.36\n",
      "Episode 37, Average Score: 1.71, Max: 6.25, Min: 0.93, Time: 21.85\n",
      "Episode 38, Average Score: 1.79, Max: 6.19, Min: 2.09, Time: 21.78\n",
      "Episode 39, Average Score: 1.85, Max: 6.46, Min: 2.15, Time: 21.68\n",
      "Episode 40, Average Score: 1.91, Max: 7.75, Min: 2.34, Time: 21.97\n",
      "Episode 40\tAverage Score: 1.91\n",
      "Episode 41, Average Score: 1.97, Max: 8.44, Min: 1.93, Time: 22.16\n",
      "Episode 42, Average Score: 2.04, Max: 7.85, Min: 1.24, Time: 22.33\n",
      "Episode 43, Average Score: 2.11, Max: 9.14, Min: 1.79, Time: 22.43\n",
      "Episode 44, Average Score: 2.18, Max: 8.10, Min: 2.54, Time: 22.98\n",
      "Episode 45, Average Score: 2.24, Max: 7.67, Min: 3.02, Time: 22.87\n",
      "Episode 46, Average Score: 2.31, Max: 8.79, Min: 2.53, Time: 23.13\n",
      "Episode 47, Average Score: 2.38, Max: 9.97, Min: 3.01, Time: 23.00\n",
      "Episode 48, Average Score: 2.48, Max: 9.64, Min: 3.19, Time: 23.23\n",
      "Episode 49, Average Score: 2.56, Max: 8.44, Min: 2.94, Time: 23.39\n",
      "Episode 50, Average Score: 2.65, Max: 13.59, Min: 3.81, Time: 23.88\n",
      "Episode 50\tAverage Score: 2.65\n",
      "Episode 51, Average Score: 2.74, Max: 10.42, Min: 4.76, Time: 23.54\n",
      "Episode 52, Average Score: 2.82, Max: 11.01, Min: 4.31, Time: 24.48\n",
      "Episode 53, Average Score: 2.90, Max: 9.53, Min: 3.58, Time: 25.57\n",
      "Episode 54, Average Score: 2.96, Max: 10.84, Min: 3.21, Time: 24.71\n",
      "Episode 55, Average Score: 3.03, Max: 10.60, Min: 2.97, Time: 23.34\n",
      "Episode 56, Average Score: 3.10, Max: 10.65, Min: 3.34, Time: 23.37\n",
      "Episode 57, Average Score: 3.17, Max: 13.81, Min: 3.17, Time: 23.31\n",
      "Episode 58, Average Score: 3.24, Max: 10.52, Min: 2.83, Time: 23.30\n",
      "Episode 59, Average Score: 3.32, Max: 12.41, Min: 3.91, Time: 23.45\n",
      "Episode 60, Average Score: 3.38, Max: 11.72, Min: 3.86, Time: 23.38\n",
      "Episode 60\tAverage Score: 3.38\n",
      "Episode 61, Average Score: 3.48, Max: 20.38, Min: 4.76, Time: 23.32\n",
      "Episode 62, Average Score: 3.57, Max: 18.52, Min: 4.83, Time: 23.31\n",
      "Episode 63, Average Score: 3.65, Max: 14.17, Min: 3.80, Time: 23.22\n",
      "Episode 64, Average Score: 3.74, Max: 18.06, Min: 2.49, Time: 23.34\n",
      "Episode 65, Average Score: 3.82, Max: 22.01, Min: 3.45, Time: 23.48\n",
      "Episode 66, Average Score: 3.89, Max: 14.74, Min: 2.74, Time: 23.35\n",
      "Episode 67, Average Score: 4.00, Max: 15.20, Min: 4.08, Time: 23.37\n",
      "Episode 68, Average Score: 4.08, Max: 14.05, Min: 3.31, Time: 23.99\n",
      "Episode 69, Average Score: 4.17, Max: 22.58, Min: 5.51, Time: 25.15\n",
      "Episode 70, Average Score: 4.25, Max: 15.93, Min: 6.41, Time: 24.96\n",
      "Episode 70\tAverage Score: 4.25\n",
      "Episode 71, Average Score: 4.34, Max: 20.80, Min: 5.89, Time: 24.05\n",
      "Episode 72, Average Score: 4.45, Max: 19.37, Min: 7.01, Time: 24.06\n",
      "Episode 73, Average Score: 4.57, Max: 24.04, Min: 4.79, Time: 23.44\n",
      "Episode 74, Average Score: 4.64, Max: 18.35, Min: 5.64, Time: 23.51\n",
      "Episode 75, Average Score: 4.71, Max: 15.61, Min: 4.10, Time: 24.28\n",
      "Episode 76, Average Score: 4.79, Max: 15.73, Min: 6.42, Time: 24.55\n",
      "Episode 77, Average Score: 4.87, Max: 15.81, Min: 6.09, Time: 24.73\n",
      "Episode 78, Average Score: 4.97, Max: 20.95, Min: 6.93, Time: 24.65\n",
      "Episode 79, Average Score: 5.05, Max: 19.56, Min: 6.75, Time: 24.90\n",
      "Episode 80, Average Score: 5.13, Max: 14.84, Min: 5.07, Time: 24.87\n",
      "Episode 80\tAverage Score: 5.13\n",
      "Episode 81, Average Score: 5.19, Max: 14.23, Min: 6.83, Time: 25.16\n",
      "Episode 82, Average Score: 5.25, Max: 16.84, Min: 4.15, Time: 25.22\n",
      "Episode 83, Average Score: 5.31, Max: 18.18, Min: 7.52, Time: 25.03\n",
      "Episode 84, Average Score: 5.38, Max: 19.06, Min: 6.26, Time: 24.04\n",
      "Episode 85, Average Score: 5.43, Max: 13.88, Min: 3.71, Time: 24.85\n",
      "Episode 86, Average Score: 5.50, Max: 15.81, Min: 7.14, Time: 25.11\n",
      "Episode 87, Average Score: 5.56, Max: 15.14, Min: 6.22, Time: 25.08\n",
      "Episode 88, Average Score: 5.64, Max: 15.27, Min: 8.27, Time: 25.35\n",
      "Episode 89, Average Score: 5.71, Max: 17.90, Min: 7.65, Time: 25.48\n",
      "Episode 90, Average Score: 5.78, Max: 18.57, Min: 5.43, Time: 25.13\n",
      "Episode 90\tAverage Score: 5.78\n",
      "Episode 91, Average Score: 5.84, Max: 18.11, Min: 6.72, Time: 25.10\n",
      "Episode 92, Average Score: 5.91, Max: 19.68, Min: 3.78, Time: 25.35\n",
      "Episode 93, Average Score: 5.99, Max: 21.75, Min: 4.47, Time: 25.26\n",
      "Episode 94, Average Score: 6.07, Max: 18.80, Min: 8.72, Time: 25.15\n",
      "Episode 95, Average Score: 6.15, Max: 17.22, Min: 5.76, Time: 25.17\n",
      "Episode 96, Average Score: 6.26, Max: 29.59, Min: 8.35, Time: 25.26\n",
      "Episode 97, Average Score: 6.35, Max: 21.29, Min: 8.20, Time: 25.20\n",
      "Episode 98, Average Score: 6.45, Max: 22.52, Min: 8.16, Time: 25.14\n",
      "Episode 99, Average Score: 6.58, Max: 28.29, Min: 12.49, Time: 24.04\n",
      "Episode 100, Average Score: 6.68, Max: 23.20, Min: 9.41, Time: 23.60\n",
      "Episode 100\tAverage Score: 6.68\n",
      "Episode 101, Average Score: 6.88, Max: 22.92, Min: 13.37, Time: 23.61\n",
      "Episode 102, Average Score: 7.08, Max: 27.47, Min: 11.75, Time: 23.61\n",
      "Episode 103, Average Score: 7.29, Max: 28.72, Min: 13.09, Time: 23.57\n",
      "Episode 104, Average Score: 7.50, Max: 29.90, Min: 10.48, Time: 23.66\n",
      "Episode 105, Average Score: 7.73, Max: 28.14, Min: 15.38, Time: 23.50\n",
      "Episode 106, Average Score: 7.96, Max: 27.90, Min: 15.88, Time: 23.62\n",
      "Episode 107, Average Score: 8.18, Max: 28.81, Min: 12.78, Time: 23.92\n",
      "Episode 108, Average Score: 8.42, Max: 28.67, Min: 14.32, Time: 23.75\n",
      "Episode 109, Average Score: 8.65, Max: 28.01, Min: 18.34, Time: 23.65\n",
      "Episode 110, Average Score: 8.88, Max: 29.52, Min: 19.11, Time: 23.63\n",
      "Episode 110\tAverage Score: 8.88\n",
      "Episode 111, Average Score: 9.12, Max: 34.81, Min: 19.53, Time: 23.68\n",
      "Episode 112, Average Score: 9.36, Max: 30.02, Min: 15.87, Time: 23.67\n",
      "Episode 113, Average Score: 9.62, Max: 34.20, Min: 22.41, Time: 23.78\n",
      "Episode 114, Average Score: 9.86, Max: 28.90, Min: 20.74, Time: 23.71\n",
      "Episode 115, Average Score: 10.07, Max: 29.77, Min: 11.67, Time: 23.59\n",
      "Episode 116, Average Score: 10.32, Max: 35.62, Min: 19.70, Time: 23.76\n"
     ]
    },
    {
     "name": "stdout",
     "output_type": "stream",
     "text": [
      "Episode 117, Average Score: 10.59, Max: 37.40, Min: 15.63, Time: 23.78\n",
      "Episode 118, Average Score: 10.87, Max: 38.01, Min: 14.53, Time: 23.71\n",
      "Episode 119, Average Score: 11.11, Max: 32.20, Min: 10.01, Time: 23.95\n",
      "Episode 120, Average Score: 11.39, Max: 39.03, Min: 19.14, Time: 23.76\n",
      "Episode 120\tAverage Score: 11.39\n",
      "Episode 121, Average Score: 11.62, Max: 37.21, Min: 15.45, Time: 23.91\n",
      "Episode 122, Average Score: 11.90, Max: 37.61, Min: 19.48, Time: 23.83\n",
      "Episode 123, Average Score: 12.19, Max: 37.00, Min: 24.11, Time: 23.96\n",
      "Episode 124, Average Score: 12.49, Max: 36.74, Min: 23.39, Time: 23.88\n",
      "Episode 125, Average Score: 12.78, Max: 36.58, Min: 24.05, Time: 23.89\n",
      "Episode 126, Average Score: 13.06, Max: 39.59, Min: 19.73, Time: 24.01\n",
      "Episode 127, Average Score: 13.33, Max: 38.21, Min: 21.39, Time: 23.97\n",
      "Episode 128, Average Score: 13.59, Max: 39.48, Min: 20.00, Time: 24.03\n",
      "Episode 129, Average Score: 13.83, Max: 34.92, Min: 15.53, Time: 24.03\n",
      "Episode 130, Average Score: 14.07, Max: 32.76, Min: 17.10, Time: 23.94\n",
      "Episode 130\tAverage Score: 14.07\n",
      "Episode 131, Average Score: 14.30, Max: 39.16, Min: 17.08, Time: 24.08\n",
      "Episode 132, Average Score: 14.56, Max: 35.24, Min: 19.16, Time: 23.95\n",
      "Episode 133, Average Score: 14.81, Max: 35.72, Min: 17.59, Time: 24.23\n",
      "Episode 134, Average Score: 15.05, Max: 33.68, Min: 21.42, Time: 24.13\n",
      "Episode 135, Average Score: 15.29, Max: 32.44, Min: 19.89, Time: 23.92\n",
      "Episode 136, Average Score: 15.54, Max: 38.59, Min: 22.37, Time: 24.17\n",
      "Episode 137, Average Score: 15.77, Max: 36.59, Min: 21.10, Time: 23.96\n",
      "Episode 138, Average Score: 16.00, Max: 32.23, Min: 22.70, Time: 24.17\n",
      "Episode 139, Average Score: 16.25, Max: 36.02, Min: 24.51, Time: 24.51\n",
      "Episode 140, Average Score: 16.51, Max: 33.97, Min: 22.57, Time: 24.43\n",
      "Episode 140\tAverage Score: 16.51\n",
      "Episode 141, Average Score: 16.74, Max: 31.74, Min: 21.85, Time: 24.11\n",
      "Episode 142, Average Score: 16.97, Max: 31.21, Min: 24.44, Time: 24.21\n",
      "Episode 143, Average Score: 17.21, Max: 35.83, Min: 23.69, Time: 24.14\n",
      "Episode 144, Average Score: 17.45, Max: 32.43, Min: 23.23, Time: 24.20\n",
      "Episode 145, Average Score: 17.67, Max: 32.53, Min: 23.57, Time: 24.14\n",
      "Episode 146, Average Score: 17.91, Max: 33.77, Min: 24.90, Time: 24.29\n",
      "Episode 147, Average Score: 18.16, Max: 36.19, Min: 24.41, Time: 24.14\n",
      "Episode 148, Average Score: 18.42, Max: 39.27, Min: 27.08, Time: 24.14\n",
      "Episode 149, Average Score: 18.68, Max: 38.92, Min: 14.45, Time: 24.16\n",
      "Episode 150, Average Score: 18.95, Max: 37.84, Min: 28.94, Time: 24.16\n",
      "Episode 150\tAverage Score: 18.95\n",
      "Episode 151, Average Score: 19.23, Max: 39.08, Min: 23.09, Time: 24.25\n",
      "Episode 152, Average Score: 19.50, Max: 39.08, Min: 25.29, Time: 24.25\n",
      "Episode 153, Average Score: 19.79, Max: 39.42, Min: 26.02, Time: 24.11\n",
      "Episode 154, Average Score: 20.09, Max: 38.59, Min: 31.13, Time: 24.04\n",
      "Episode 155, Average Score: 20.39, Max: 39.15, Min: 32.93, Time: 24.14\n",
      "Episode 156, Average Score: 20.69, Max: 38.71, Min: 32.56, Time: 24.51\n",
      "Episode 157, Average Score: 20.97, Max: 38.09, Min: 32.03, Time: 24.22\n",
      "Episode 158, Average Score: 21.26, Max: 39.19, Min: 29.77, Time: 24.39\n",
      "Episode 159, Average Score: 21.54, Max: 38.86, Min: 32.20, Time: 24.28\n",
      "Episode 160, Average Score: 21.83, Max: 39.34, Min: 28.45, Time: 24.22\n",
      "Episode 160\tAverage Score: 21.83\n",
      "Episode 161, Average Score: 22.11, Max: 38.86, Min: 31.81, Time: 25.13\n",
      "Episode 162, Average Score: 22.37, Max: 39.37, Min: 31.27, Time: 28.25\n",
      "Episode 163, Average Score: 22.65, Max: 39.04, Min: 31.43, Time: 26.29\n",
      "Episode 164, Average Score: 22.93, Max: 39.51, Min: 32.74, Time: 25.11\n",
      "Episode 165, Average Score: 23.21, Max: 39.50, Min: 32.53, Time: 26.10\n",
      "Episode 166, Average Score: 23.50, Max: 39.55, Min: 34.05, Time: 25.85\n",
      "Episode 167, Average Score: 23.74, Max: 39.56, Min: 32.24, Time: 25.06\n",
      "Episode 168, Average Score: 24.01, Max: 39.26, Min: 31.96, Time: 26.00\n",
      "Episode 169, Average Score: 24.28, Max: 39.44, Min: 35.02, Time: 28.42\n",
      "Episode 170, Average Score: 24.55, Max: 39.48, Min: 33.36, Time: 27.12\n",
      "Episode 170\tAverage Score: 24.55\n",
      "Episode 171, Average Score: 24.79, Max: 37.63, Min: 32.36, Time: 26.64\n",
      "Episode 172, Average Score: 25.05, Max: 39.08, Min: 36.21, Time: 26.82\n",
      "Episode 173, Average Score: 25.29, Max: 39.15, Min: 34.75, Time: 27.03\n",
      "Episode 174, Average Score: 25.58, Max: 39.50, Min: 35.75, Time: 26.86\n",
      "Episode 175, Average Score: 25.87, Max: 39.34, Min: 35.27, Time: 27.03\n",
      "Episode 176, Average Score: 26.14, Max: 39.24, Min: 36.23, Time: 27.12\n",
      "Episode 177, Average Score: 26.40, Max: 39.63, Min: 32.38, Time: 27.05\n",
      "Episode 178, Average Score: 26.65, Max: 39.35, Min: 29.69, Time: 26.71\n",
      "Episode 179, Average Score: 26.92, Max: 39.49, Min: 34.22, Time: 26.70\n",
      "Episode 180, Average Score: 27.18, Max: 39.44, Min: 32.21, Time: 26.61\n",
      "Episode 180\tAverage Score: 27.18\n",
      "Episode 181, Average Score: 27.46, Max: 39.51, Min: 35.86, Time: 27.01\n",
      "Episode 182, Average Score: 27.74, Max: 39.59, Min: 36.25, Time: 26.88\n",
      "Episode 183, Average Score: 28.01, Max: 39.16, Min: 32.87, Time: 26.67\n",
      "Episode 184, Average Score: 28.28, Max: 39.52, Min: 35.88, Time: 26.65\n",
      "Episode 185, Average Score: 28.56, Max: 39.48, Min: 30.78, Time: 26.71\n",
      "Episode 186, Average Score: 28.82, Max: 39.63, Min: 34.98, Time: 26.61\n",
      "Episode 187, Average Score: 29.08, Max: 39.67, Min: 30.63, Time: 26.63\n",
      "Episode 188, Average Score: 29.33, Max: 39.65, Min: 28.75, Time: 26.62\n",
      "Episode 189, Average Score: 29.58, Max: 39.40, Min: 31.25, Time: 26.67\n",
      "Episode 190, Average Score: 29.84, Max: 39.58, Min: 32.64, Time: 26.63\n",
      "Episode 190\tAverage Score: 29.84\n",
      "Episode 191, Average Score: 30.09, Max: 39.44, Min: 33.75, Time: 26.82\n",
      "\n",
      "Environment solved in 191 episodes!\tAverage Score: 30.09\n"
     ]
    },
    {
     "data": {
      "image/png": "[encoded data removed]",
      "text/plain": [
       "<Figure size 432x288 with 1 Axes>"
      ]
     },
     "metadata": {},
     "output_type": "display_data"
    }
   ],
   "source": [
    "def ddpg(n_episodes=1500):\n",
    "    scores_deque = deque(maxlen=100)\n",
    "    scores_global = []\n",
    "        \n",
    "    for i_episode in range(1, n_episodes+1):\n",
    "        env_info = env.reset(train_mode=True)[brain_name]      # reset the environment    \n",
    "        states = env_info.vector_observations                  # get the current state (for each agent)\n",
    "        scores = np.zeros(num_agents)                          # initialize the score (for each agent)\n",
    "        agent.reset()\n",
    "        \n",
    "        score_average = 0\n",
    "        timestep = time.time()\n",
    "        for t in count():\n",
    "            actions = agent.act(states)\n",
    "            env_info = env.step(actions)[brain_name]           # send all actions to tne environment\n",
    "            next_states = env_info.vector_observations         # get next state (for each agent)\n",
    "            rewards = env_info.rewards                         # get reward (for each agent)\n",
    "            dones = env_info.local_done                        # see if episode finished\n",
    "            agent.step(states, actions, rewards, next_states, dones, t)\n",
    "            states = next_states                               # roll over states to next time step\n",
    "            scores += rewards                                  # update the score (for each agent)            \n",
    "            if np.any(dones):                                  # exit loop if episode finished\n",
    "                break\n",
    "        \n",
    "        score = np.mean(scores)\n",
    "        scores_deque.append(score)\n",
    "        score_average = np.mean(scores_deque)\n",
    "        scores_global.append(score)\n",
    "        \n",
    "        print('\\rEpisode {}, Average Score: {:.2f}, Max: {:.2f}, Min: {:.2f}, Time: {:.2f}'\\\n",
    "              .format(i_episode, score_average, np.max(scores), np.min(scores), time.time() - timestep), end=\"\\n\")        \n",
    "        \n",
    "        if i_episode % 10 == 0:\n",
    "            torch.save(agent.actor_local.state_dict(), 'checkpoint_actor.pth')\n",
    "            torch.save(agent.critic_local.state_dict(), 'checkpoint_critic.pth')\n",
    "            print('\\rEpisode {}\\tAverage Score: {:.2f}'.format(i_episode, np.mean(scores_deque)))   \n",
    "            \n",
    "        if score_average >= 30.0:\n",
    "            print('\\nEnvironment solved in {:d} episodes!\\tAverage Score: {:.2f}'.format(i_episode, score_average))            \n",
    "            break            \n",
    "            \n",
    "    return scores_global\n",
    "\n",
    "scores = ddpg()\n",
    "\n",
    "fig = plt.figure()\n",
    "ax = fig.add_subplot(111)\n",
    "plt.plot(np.arange(1, len(scores)+1), scores)\n",
    "plt.ylabel('Score')\n",
    "plt.xlabel('Episode #')\n",
    "plt.show()"
   ]
  },
  {
   "cell_type": "markdown",
   "metadata": {},
   "source": [
    "#### 3. Watch a Smart Agent!"
   ]
  },
  {
   "cell_type": "code",
   "execution_count": null,
   "metadata": {},
   "outputs": [],
   "source": [
    "agent.actor_local.load_state_dict(torch.load('checkpoint_actor.pth'))\n",
    "agent.critic_local.load_state_dict(torch.load('checkpoint_critic.pth'))\n",
    "\n",
    "env_info = env.reset(train_mode=False)[brain_name]     # reset the environment    \n",
    "states = env_info.vector_observations                  # get the current state (for each agent)\n",
    "scores = np.zeros(num_agents)                          # initialize the score (for each agent)\n",
    "while True:\n",
    "    actions = agent.act(states)                        # select an action (for each agent)\n",
    "    env_info = env.step(actions)[brain_name]           # send all actions to tne environment\n",
    "    next_states = env_info.vector_observations         # get next state (for each agent)\n",
    "    rewards = env_info.rewards                         # get reward (for each agent)\n",
    "    dones = env_info.local_done                        # see if episode finished\n",
    "    scores += env_info.rewards                         # update the score (for each agent)\n",
    "    states = next_states                               # roll over states to next time step\n",
    "    if np.any(dones):                                  # exit loop if episode finished\n",
    "        break\n",
    "print('Total score (averaged over agents) this episode: {}'.format(np.mean(scores)))"
   ]
  },
  {
   "cell_type": "code",
   "execution_count": null,
   "metadata": {},
   "outputs": [],
   "source": [
    "env.close()"
   ]
  },
  {
   "cell_type": "code",
   "execution_count": null,
   "metadata": {},
   "outputs": [],
   "source": []
  }
 ],
 "metadata": {
  "kernelspec": {
   "display_name": "drlnd",
   "language": "python",
   "name": "drlnd"
  },
  "language_info": {
   "codemirror_mode": {
    "name": "ipython",
    "version": 3
   },
   "file_extension": ".py",
   "mimetype": "text/x-python",
   "name": "python",
   "nbconvert_exporter": "python",
   "pygments_lexer": "ipython3",
   "version": "3.6.6"
  }
 },
 "nbformat": 4,
 "nbformat_minor": 2
}
